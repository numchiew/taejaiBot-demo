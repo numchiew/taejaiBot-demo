{
 "cells": [
  {
   "cell_type": "code",
   "execution_count": 2,
   "metadata": {},
   "outputs": [],
   "source": [
    "import pandas as pd\n",
    "import pickle\n",
    "from sklearn.externals import joblib\n",
    "from sklearn import preprocessing\n"
   ]
  },
  {
   "cell_type": "code",
   "execution_count": 3,
   "metadata": {
    "collapsed": true
   },
   "outputs": [],
   "source": [
    "features = '''สวัสดี\n",
    "อะไร\n",
    "ยังไง\n",
    "เมื่อไหร่\n",
    "บาย\n",
    "โครงการ\n",
    "ค้นหา\n",
    "ขอบคุณ\n",
    "หวัดดี\n",
    "ขอบคุณค่า\n",
    "สวัสดีค่ะ\n",
    "สวัสดีครับ\n",
    "มีโครงการอะไรบ้าง'''"
   ]
  },
  {
   "cell_type": "code",
   "execution_count": 4,
   "metadata": {
    "collapsed": true
   },
   "outputs": [],
   "source": [
    "features = features.split('\\n')"
   ]
  },
  {
   "cell_type": "code",
   "execution_count": 5,
   "metadata": {
    "collapsed": true
   },
   "outputs": [],
   "source": [
    "def get_feature(messages):\n",
    "    features_result = {}\n",
    "    features_count = 0\n",
    "    for feature in features:\n",
    "        pattern = feature\n",
    "        for message, score in messages:\n",
    "            matches = pattern in message\n",
    "            if matches:\n",
    "                try:\n",
    "                    features_result[feature] += 1 * score\n",
    "                except KeyError:\n",
    "                    features_result[feature] = 1 * score\n",
    "                features_count = features_count + 1\n",
    "            else:\n",
    "                try:\n",
    "                    features_result[feature] += 0\n",
    "                except KeyError:\n",
    "                    features_result[feature] = 0\n",
    "    features_result['feature_not_found'] = 1 if features_count == 0 else 0\n",
    "    return features_result"
   ]
  },
  {
   "cell_type": "code",
   "execution_count": 7,
   "metadata": {},
   "outputs": [],
   "source": [
    "training = pd.read_csv('/Users/matus/Desktop/taejaiBot-demo/app/app/data/data.csv')"
   ]
  },
  {
   "cell_type": "code",
   "execution_count": 8,
   "metadata": {
    "collapsed": true
   },
   "outputs": [],
   "source": [
    "data = []"
   ]
  },
  {
   "cell_type": "code",
   "execution_count": 10,
   "metadata": {},
   "outputs": [],
   "source": [
    "for i in range(len(training)):\n",
    "        messages = training.get_value(i, 'description')\n",
    "        features_result = get_feature([(messages, 1),])\n",
    "        features_result['class'] = training.get_value(i, 'class')\n",
    "        data.append(features_result)\n",
    "\n",
    "df = pd.DataFrame(data=data)"
   ]
  },
  {
   "cell_type": "code",
   "execution_count": 11,
   "metadata": {},
   "outputs": [
    {
     "data": {
      "text/html": [
       "<div>\n",
       "<style>\n",
       "    .dataframe thead tr:only-child th {\n",
       "        text-align: right;\n",
       "    }\n",
       "\n",
       "    .dataframe thead th {\n",
       "        text-align: left;\n",
       "    }\n",
       "\n",
       "    .dataframe tbody tr th {\n",
       "        vertical-align: top;\n",
       "    }\n",
       "</style>\n",
       "<table border=\"1\" class=\"dataframe\">\n",
       "  <thead>\n",
       "    <tr style=\"text-align: right;\">\n",
       "      <th></th>\n",
       "      <th>class</th>\n",
       "      <th>feature_not_found</th>\n",
       "      <th>ขอบคุณ</th>\n",
       "      <th>ขอบคุณค่า</th>\n",
       "      <th>ค้นหา</th>\n",
       "      <th>บาย</th>\n",
       "      <th>มีโครงการอะไรบ้าง</th>\n",
       "      <th>ยังไง</th>\n",
       "      <th>สวัสดี</th>\n",
       "      <th>สวัสดีครับ</th>\n",
       "      <th>สวัสดีค่ะ</th>\n",
       "      <th>หวัดดี</th>\n",
       "      <th>อะไร</th>\n",
       "      <th>เมื่อไหร่</th>\n",
       "      <th>โครงการ</th>\n",
       "    </tr>\n",
       "  </thead>\n",
       "  <tbody>\n",
       "    <tr>\n",
       "      <th>0</th>\n",
       "      <td>ทักทาย</td>\n",
       "      <td>0</td>\n",
       "      <td>0</td>\n",
       "      <td>0</td>\n",
       "      <td>0</td>\n",
       "      <td>0</td>\n",
       "      <td>0</td>\n",
       "      <td>0</td>\n",
       "      <td>1</td>\n",
       "      <td>0</td>\n",
       "      <td>0</td>\n",
       "      <td>0</td>\n",
       "      <td>0</td>\n",
       "      <td>0</td>\n",
       "      <td>0</td>\n",
       "    </tr>\n",
       "    <tr>\n",
       "      <th>1</th>\n",
       "      <td>ทักทาย</td>\n",
       "      <td>0</td>\n",
       "      <td>0</td>\n",
       "      <td>0</td>\n",
       "      <td>0</td>\n",
       "      <td>0</td>\n",
       "      <td>0</td>\n",
       "      <td>0</td>\n",
       "      <td>0</td>\n",
       "      <td>0</td>\n",
       "      <td>0</td>\n",
       "      <td>1</td>\n",
       "      <td>0</td>\n",
       "      <td>0</td>\n",
       "      <td>0</td>\n",
       "    </tr>\n",
       "    <tr>\n",
       "      <th>2</th>\n",
       "      <td>คำถาม</td>\n",
       "      <td>0</td>\n",
       "      <td>0</td>\n",
       "      <td>0</td>\n",
       "      <td>0</td>\n",
       "      <td>0</td>\n",
       "      <td>0</td>\n",
       "      <td>0</td>\n",
       "      <td>0</td>\n",
       "      <td>0</td>\n",
       "      <td>0</td>\n",
       "      <td>0</td>\n",
       "      <td>1</td>\n",
       "      <td>0</td>\n",
       "      <td>0</td>\n",
       "    </tr>\n",
       "    <tr>\n",
       "      <th>3</th>\n",
       "      <td>คำถาม</td>\n",
       "      <td>1</td>\n",
       "      <td>0</td>\n",
       "      <td>0</td>\n",
       "      <td>0</td>\n",
       "      <td>0</td>\n",
       "      <td>0</td>\n",
       "      <td>0</td>\n",
       "      <td>0</td>\n",
       "      <td>0</td>\n",
       "      <td>0</td>\n",
       "      <td>0</td>\n",
       "      <td>0</td>\n",
       "      <td>0</td>\n",
       "      <td>0</td>\n",
       "    </tr>\n",
       "    <tr>\n",
       "      <th>4</th>\n",
       "      <td>ทักทาย</td>\n",
       "      <td>0</td>\n",
       "      <td>0</td>\n",
       "      <td>0</td>\n",
       "      <td>0</td>\n",
       "      <td>0</td>\n",
       "      <td>0</td>\n",
       "      <td>0</td>\n",
       "      <td>1</td>\n",
       "      <td>0</td>\n",
       "      <td>0</td>\n",
       "      <td>0</td>\n",
       "      <td>0</td>\n",
       "      <td>0</td>\n",
       "      <td>0</td>\n",
       "    </tr>\n",
       "  </tbody>\n",
       "</table>\n",
       "</div>"
      ],
      "text/plain": [
       "    class  feature_not_found  ขอบคุณ  ขอบคุณค่า  ค้นหา  บาย  \\\n",
       "0  ทักทาย                  0       0          0      0    0   \n",
       "1  ทักทาย                  0       0          0      0    0   \n",
       "2   คำถาม                  0       0          0      0    0   \n",
       "3   คำถาม                  1       0          0      0    0   \n",
       "4  ทักทาย                  0       0          0      0    0   \n",
       "\n",
       "   มีโครงการอะไรบ้าง  ยังไง  สวัสดี  สวัสดีครับ  สวัสดีค่ะ  หวัดดี  อะไร  \\\n",
       "0                  0      0       1           0          0       0     0   \n",
       "1                  0      0       0           0          0       1     0   \n",
       "2                  0      0       0           0          0       0     1   \n",
       "3                  0      0       0           0          0       0     0   \n",
       "4                  0      0       1           0          0       0     0   \n",
       "\n",
       "   เมื่อไหร่  โครงการ  \n",
       "0          0        0  \n",
       "1          0        0  \n",
       "2          0        0  \n",
       "3          0        0  \n",
       "4          0        0  "
      ]
     },
     "execution_count": 11,
     "metadata": {},
     "output_type": "execute_result"
    }
   ],
   "source": [
    "df.head()"
   ]
  },
  {
   "cell_type": "code",
   "execution_count": null,
   "metadata": {
    "collapsed": true
   },
   "outputs": [],
   "source": []
  }
 ],
 "metadata": {
  "kernelspec": {
   "display_name": "Python 3",
   "language": "python",
   "name": "python3"
  },
  "language_info": {
   "codemirror_mode": {
    "name": "ipython",
    "version": 3
   },
   "file_extension": ".py",
   "mimetype": "text/x-python",
   "name": "python",
   "nbconvert_exporter": "python",
   "pygments_lexer": "ipython3",
   "version": "3.6.3"
  }
 },
 "nbformat": 4,
 "nbformat_minor": 2
}

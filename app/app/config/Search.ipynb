{
 "cells": [
  {
   "cell_type": "code",
   "execution_count": 656,
   "metadata": {
    "collapsed": true
   },
   "outputs": [],
   "source": [
    "import pandas as pd\n",
    "import pickle\n",
    "from sklearn.externals import joblib\n",
    "from sklearn import preprocessing\n"
   ]
  },
  {
   "cell_type": "code",
   "execution_count": 657,
   "metadata": {},
   "outputs": [],
   "source": [
    "features = ''''''\n",
    "with open('/Users/matus/Desktop/taejaiBot-demo/app/app/brain/feature.txt','r') as f:\n",
    "    for line in f:\n",
    "        features += line"
   ]
  },
  {
   "cell_type": "code",
   "execution_count": 658,
   "metadata": {},
   "outputs": [],
   "source": [
    "features = features.split('\\n')"
   ]
  },
  {
   "cell_type": "code",
   "execution_count": null,
   "metadata": {},
   "outputs": [],
   "source": []
  },
  {
   "cell_type": "code",
   "execution_count": 659,
   "metadata": {
    "collapsed": true
   },
   "outputs": [],
   "source": [
    "def get_feature(messages):\n",
    "    features_result = {}\n",
    "    features_count = 0\n",
    "    for feature in features:\n",
    "        pattern = feature\n",
    "        for message, score in messages:\n",
    "            matches = pattern in message\n",
    "            if matches:\n",
    "                try:\n",
    "                    features_result[feature] += 1 * score\n",
    "                except KeyError:\n",
    "                    features_result[feature] = 1 * score\n",
    "                features_count = features_count + 1\n",
    "            else:\n",
    "                try:\n",
    "                    features_result[feature] += 0\n",
    "                except KeyError:\n",
    "                    features_result[feature] = 0\n",
    "    features_result['feature_not_found'] = 1 if features_count == 0 else 0\n",
    "    return features_result"
   ]
  },
  {
   "cell_type": "code",
   "execution_count": null,
   "metadata": {},
   "outputs": [],
   "source": []
  },
  {
   "cell_type": "code",
   "execution_count": 660,
   "metadata": {},
   "outputs": [],
   "source": [
    "training = pd.read_csv('/Users/matus/Desktop/taejaiBot-demo/app/app/brain/projectData.csv')"
   ]
  },
  {
   "cell_type": "code",
   "execution_count": 661,
   "metadata": {
    "collapsed": true
   },
   "outputs": [],
   "source": [
    "data = []"
   ]
  },
  {
   "cell_type": "code",
   "execution_count": 662,
   "metadata": {},
   "outputs": [],
   "source": [
    "for i in range(len(training)):\n",
    "        messages = training.get_value(i, 'description')\n",
    "        features_result = get_feature([(messages, 1),])\n",
    "        features_result['class'] = training.get_value(i, 'class')\n",
    "        data.append(features_result)\n",
    "\n",
    "df = pd.DataFrame(data=data)"
   ]
  },
  {
   "cell_type": "code",
   "execution_count": 663,
   "metadata": {},
   "outputs": [
    {
     "data": {
      "text/html": [
       "<div>\n",
       "<style>\n",
       "    .dataframe thead tr:only-child th {\n",
       "        text-align: right;\n",
       "    }\n",
       "\n",
       "    .dataframe thead th {\n",
       "        text-align: left;\n",
       "    }\n",
       "\n",
       "    .dataframe tbody tr th {\n",
       "        vertical-align: top;\n",
       "    }\n",
       "</style>\n",
       "<table border=\"1\" class=\"dataframe\">\n",
       "  <thead>\n",
       "    <tr style=\"text-align: right;\">\n",
       "      <th></th>\n",
       "      <th></th>\n",
       "      <th>+</th>\n",
       "      <th>.</th>\n",
       "      <th>0</th>\n",
       "      <th>00</th>\n",
       "      <th>2</th>\n",
       "      <th>20</th>\n",
       "      <th>3</th>\n",
       "      <th>30</th>\n",
       "      <th>4</th>\n",
       "      <th>...</th>\n",
       "      <th>ไว้</th>\n",
       "      <th>ไหน</th>\n",
       "      <th>ไหว</th>\n",
       "      <th>ไอ</th>\n",
       "      <th>ไอติม</th>\n",
       "      <th>๑4๑</th>\n",
       "      <th>๒</th>\n",
       "      <th>–</th>\n",
       "      <th>‘</th>\n",
       "      <th>…</th>\n",
       "    </tr>\n",
       "  </thead>\n",
       "  <tbody>\n",
       "    <tr>\n",
       "      <th>0</th>\n",
       "      <td>7</td>\n",
       "      <td>0</td>\n",
       "      <td>0</td>\n",
       "      <td>0</td>\n",
       "      <td>0</td>\n",
       "      <td>0</td>\n",
       "      <td>0</td>\n",
       "      <td>0</td>\n",
       "      <td>0</td>\n",
       "      <td>5</td>\n",
       "      <td>...</td>\n",
       "      <td>0</td>\n",
       "      <td>0</td>\n",
       "      <td>0</td>\n",
       "      <td>0</td>\n",
       "      <td>0</td>\n",
       "      <td>2</td>\n",
       "      <td>0</td>\n",
       "      <td>0</td>\n",
       "      <td>0</td>\n",
       "      <td>0</td>\n",
       "    </tr>\n",
       "    <tr>\n",
       "      <th>1</th>\n",
       "      <td>7</td>\n",
       "      <td>0</td>\n",
       "      <td>0</td>\n",
       "      <td>0</td>\n",
       "      <td>0</td>\n",
       "      <td>0</td>\n",
       "      <td>0</td>\n",
       "      <td>0</td>\n",
       "      <td>0</td>\n",
       "      <td>0</td>\n",
       "      <td>...</td>\n",
       "      <td>0</td>\n",
       "      <td>0</td>\n",
       "      <td>0</td>\n",
       "      <td>0</td>\n",
       "      <td>0</td>\n",
       "      <td>0</td>\n",
       "      <td>0</td>\n",
       "      <td>0</td>\n",
       "      <td>0</td>\n",
       "      <td>0</td>\n",
       "    </tr>\n",
       "    <tr>\n",
       "      <th>2</th>\n",
       "      <td>7</td>\n",
       "      <td>0</td>\n",
       "      <td>0</td>\n",
       "      <td>0</td>\n",
       "      <td>0</td>\n",
       "      <td>0</td>\n",
       "      <td>0</td>\n",
       "      <td>0</td>\n",
       "      <td>0</td>\n",
       "      <td>0</td>\n",
       "      <td>...</td>\n",
       "      <td>0</td>\n",
       "      <td>0</td>\n",
       "      <td>0</td>\n",
       "      <td>0</td>\n",
       "      <td>0</td>\n",
       "      <td>0</td>\n",
       "      <td>0</td>\n",
       "      <td>0</td>\n",
       "      <td>0</td>\n",
       "      <td>0</td>\n",
       "    </tr>\n",
       "    <tr>\n",
       "      <th>3</th>\n",
       "      <td>7</td>\n",
       "      <td>0</td>\n",
       "      <td>0</td>\n",
       "      <td>0</td>\n",
       "      <td>0</td>\n",
       "      <td>0</td>\n",
       "      <td>0</td>\n",
       "      <td>0</td>\n",
       "      <td>0</td>\n",
       "      <td>0</td>\n",
       "      <td>...</td>\n",
       "      <td>0</td>\n",
       "      <td>0</td>\n",
       "      <td>0</td>\n",
       "      <td>0</td>\n",
       "      <td>0</td>\n",
       "      <td>0</td>\n",
       "      <td>0</td>\n",
       "      <td>0</td>\n",
       "      <td>0</td>\n",
       "      <td>0</td>\n",
       "    </tr>\n",
       "    <tr>\n",
       "      <th>4</th>\n",
       "      <td>7</td>\n",
       "      <td>0</td>\n",
       "      <td>0</td>\n",
       "      <td>0</td>\n",
       "      <td>0</td>\n",
       "      <td>0</td>\n",
       "      <td>0</td>\n",
       "      <td>0</td>\n",
       "      <td>0</td>\n",
       "      <td>0</td>\n",
       "      <td>...</td>\n",
       "      <td>0</td>\n",
       "      <td>0</td>\n",
       "      <td>0</td>\n",
       "      <td>0</td>\n",
       "      <td>0</td>\n",
       "      <td>0</td>\n",
       "      <td>0</td>\n",
       "      <td>0</td>\n",
       "      <td>0</td>\n",
       "      <td>0</td>\n",
       "    </tr>\n",
       "  </tbody>\n",
       "</table>\n",
       "<p>5 rows × 1693 columns</p>\n",
       "</div>"
      ],
      "text/plain": [
       "      +  .  0  00  2  20  3  30  4 ...  ไว้  ไหน  ไหว  ไอ  ไอติม  ๑4๑  ๒  –  \\\n",
       "0  7  0  0  0   0  0   0  0   0  5 ...    0    0    0   0      0    2  0  0   \n",
       "1  7  0  0  0   0  0   0  0   0  0 ...    0    0    0   0      0    0  0  0   \n",
       "2  7  0  0  0   0  0   0  0   0  0 ...    0    0    0   0      0    0  0  0   \n",
       "3  7  0  0  0   0  0   0  0   0  0 ...    0    0    0   0      0    0  0  0   \n",
       "4  7  0  0  0   0  0   0  0   0  0 ...    0    0    0   0      0    0  0  0   \n",
       "\n",
       "   ‘  …  \n",
       "0  0  0  \n",
       "1  0  0  \n",
       "2  0  0  \n",
       "3  0  0  \n",
       "4  0  0  \n",
       "\n",
       "[5 rows x 1693 columns]"
      ]
     },
     "execution_count": 663,
     "metadata": {},
     "output_type": "execute_result"
    }
   ],
   "source": [
    "df.head()"
   ]
  },
  {
   "cell_type": "code",
   "execution_count": null,
   "metadata": {
    "collapsed": true
   },
   "outputs": [],
   "source": []
  },
  {
   "cell_type": "code",
   "execution_count": 664,
   "metadata": {},
   "outputs": [
    {
     "name": "stdout",
     "output_type": "stream",
     "text": [
      "     ชุด  มุม  เฟอร์นิเจอร์  เด็ก  เพื่อ  การ  เล่น  สร้างสรรค์  Anyone  Can  \\\n",
      "0      4    1             1    98     98   58     8           4       0    0   \n",
      "1      0    0             0     0     98   58     0           0       3    3   \n",
      "2      4    0             0     0      0    0     0           0       0    0   \n",
      "3      0    0             0     0      0    0     0           0       0    0   \n",
      "4      0    0             0     0      0   58     0           0       0    0   \n",
      "5      0    0             0     0      0   58     0           0       0    0   \n",
      "6      0    0             0     0      0    0     0           0       0    0   \n",
      "7      0    0             0     0     98   58     0           0       0    0   \n",
      "8      0    0             0     0      0    0     0           0       0    0   \n",
      "9      0    0             0     0      0    0     0           0       0    0   \n",
      "10     0    0             0     0      0    0     0           0       0    0   \n",
      "11     0    0             0     0      0    0     0           0       0    0   \n",
      "12     0    0             0     0      0   58     0           0       0    0   \n",
      "13     0    0             0     0     98   58     0           0       0    0   \n",
      "14     0    0             0     0      0   58     0           0       0    0   \n",
      "15     0    0             0     0      0    0     0           0       0    0   \n",
      "16     0    0             0     0      0    0     0           0       0    0   \n",
      "17     0    0             0     0     98   58     0           0       0    0   \n",
      "18     0    0             0     0      0   58     0           0       0    0   \n",
      "19     0    0             0     0      0    0     0           0       0    0   \n",
      "20     0    0             0     0      0    0     0           0       0    0   \n",
      "21     0    0             0     0     98   58     0           0       0    0   \n",
      "22     0    0             0     0      0    0     0           0       0    0   \n",
      "23     0    0             0     0      0    0     0           0       0    0   \n",
      "24     0    0             0     0     98   58     0           0       0    0   \n",
      "25     0    0             0     0      0    0     0           0       0    0   \n",
      "26     0    0             0     0      0    0     0           0       0    0   \n",
      "27     0    0             0     0      0    0     0           0       0    0   \n",
      "28     0    0             0     0      0    0     0           0       0    0   \n",
      "29     0    0             0     0      0    0     0           0       0    0   \n",
      "..   ...  ...           ...   ...    ...  ...   ...         ...     ...  ...   \n",
      "554    0    0             0     0      0    0     0           0       0    0   \n",
      "555    0    0             0     0      0    0     0           0       0    0   \n",
      "556    0    0             0     0      0    0     0           0       0    0   \n",
      "557    0    0             0     0      0    0     0           0       0    0   \n",
      "558    0    0             0    98      0    0     0           0       0    0   \n",
      "559    0    0             0     0      0    0     0           0       0    0   \n",
      "560    0    0             0    98      0    0     0           0       0    0   \n",
      "561    0    0             0     0      0    0     0           0       0    0   \n",
      "562    0    0             0     0      0    0     0           0       0    0   \n",
      "563    0    0             0    98      0   58     0           0       0    0   \n",
      "564    0    0             0     0      0    0     0           0       0    0   \n",
      "565    0    0             0     0      0    0     0           0       0    0   \n",
      "566    0    0             0    98      0    0     0           0       0    0   \n",
      "567    0    0             0     0      0    0     0           0       0    0   \n",
      "568    0    0             0     0      0    0     0           0       0    0   \n",
      "569    0    0             0     0      0    0     0           0       0    0   \n",
      "570    0    0             0     0      0    0     0           0       0    0   \n",
      "571    0    0             0    98      0    0     0           0       0    0   \n",
      "572    0    0             0     0      0    0     0           0       0    0   \n",
      "573    0    0             0     0      0    0     0           0       0    0   \n",
      "574    0    0             0     0      0    0     0           0       0    0   \n",
      "575    0    0             0     0     98    0     0           0       0    0   \n",
      "576    0    0             0     0      0    0     0           0       0    0   \n",
      "577    0    0             0     0     98    0     0           0       0    0   \n",
      "578    0    0             0     0     98    0     0           0       0    0   \n",
      "579    0    0             0    98      0    0     0           0       0    0   \n",
      "580    0    0             0     0      0    0     0           0       0    0   \n",
      "581    0    0             0    98      0    0     0           0       0    0   \n",
      "582    0    0             0     0      0    0     0           0       0    0   \n",
      "583    0    0             0     0      0    0     0           0       0    0   \n",
      "\n",
      "     ...   แก่  กลุ่ม  ลูกเหรียง  Air  All  เครื่อง  ฟอก  อากาศ  แบบ  พกพา  \n",
      "0    ...     0      0          0    0    0        0    0      0    0     0  \n",
      "1    ...     0      0          0    0    0        0    0      0    0     0  \n",
      "2    ...     0      0          0    0    0        0    0      0    0     0  \n",
      "3    ...     0      0          0    0    0        0    0      0    0     0  \n",
      "4    ...     0      0          0    0    0        0    0      0    0     0  \n",
      "5    ...     0      0          0    0    0       10    0      0    0     0  \n",
      "6    ...     0      0          0    0    0        0    0      0    0     0  \n",
      "7    ...     0      0          0    0    0        0    0      0    0     0  \n",
      "8    ...     0      0          0    0    0        0    0      0    0     0  \n",
      "9    ...     0      0          0    0    0        0    0      0    0     0  \n",
      "10   ...     0      0          0    0    0        0    0      0    0     0  \n",
      "11   ...     0      0          0    0    0        0    0      0    7     0  \n",
      "12   ...     0      0          0    0    0        0    0      0    0     0  \n",
      "13   ...     0      0          0    0    0        0    0      0    0     0  \n",
      "14   ...     0      0          0    0    0        0    0      0    0     0  \n",
      "15   ...     0      0          0    0    0        0    0      0    0     0  \n",
      "16   ...     0      0          0    0    0        0    0      0    0     0  \n",
      "17   ...     0      0          0    0    0        0    0      0    0     0  \n",
      "18   ...     0      0          0    0    0        0    0      0    0     0  \n",
      "19   ...     0      0          0    0    0        0    0      0    0     0  \n",
      "20   ...     0      0          0    0    0        0    0      0    0     0  \n",
      "21   ...     0      0          0    0    0        0    0      0    0     0  \n",
      "22   ...     0      0          0    0    0        0    0      0    0     0  \n",
      "23   ...     0      0          0    0    0        0    0      0    0     0  \n",
      "24   ...     0      0          0    0    0        0    0      0    0     0  \n",
      "25   ...     0      0          0    0    0        0    0      0    0     0  \n",
      "26   ...     0      0          0    0    0        0    0      0    0     0  \n",
      "27   ...     0      0          0    0    0        0    0      0    0     0  \n",
      "28   ...     0      0          0    0    0        0    0      0    0     0  \n",
      "29   ...     0      0          0    0    0        0    0      0    0     0  \n",
      "..   ...   ...    ...        ...  ...  ...      ...  ...    ...  ...   ...  \n",
      "554  ...     0      0          0    0    0        0    0      0    0     0  \n",
      "555  ...     0      0          0    0    0        0    0      0    0     0  \n",
      "556  ...     0      0          0    0    0        0    0      0    0     0  \n",
      "557  ...     0      0          0    0    0        0    0      0    0     0  \n",
      "558  ...     0      0          0    0    0        0    0      0    0     0  \n",
      "559  ...     0      0          0    0    0        0    0      0    0     0  \n",
      "560  ...     8      0          0    0    0        0    0      0    0     0  \n",
      "561  ...     0      0          0    0    0        0    0      0    0     0  \n",
      "562  ...     0      0          0    0    0        0    0      0    0     0  \n",
      "563  ...     0      0          0    0    0        0    0      0    0     0  \n",
      "564  ...     0      0          0    0    0        0    0      0    0     0  \n",
      "565  ...     0      0          0    0    0        0    0      0    0     0  \n",
      "566  ...     0      0          0    0    0        0    0      0    0     0  \n",
      "567  ...     0      0          0    0    0        0    0      0    0     0  \n",
      "568  ...     0      0          0    0    0        0    0      0    0     0  \n",
      "569  ...     0      0          0    0    0        0    0      0    0     0  \n",
      "570  ...     0      0          0    0    0        0    0      0    0     0  \n",
      "571  ...     0      0          0    0    0        0    0      0    0     0  \n",
      "572  ...     0      0          0    0    0        0    0      0    0     0  \n",
      "573  ...     0      0          0    0    0       10    0      0    0     0  \n",
      "574  ...     0      0          0    0    0        0    0      0    0     0  \n",
      "575  ...     0      0          0    0    0        0    0      0    0     0  \n",
      "576  ...     0      0          0    0    0        0    0      0    0     0  \n",
      "577  ...     0      0          0    0    0        0    0      0    0     0  \n",
      "578  ...     0      0          0    0    0        0    0      0    0     0  \n",
      "579  ...     0      0          0    0    0        0    0      0    0     0  \n",
      "580  ...     0      0          0    0    0        0    0      0    0     0  \n",
      "581  ...     0      0          0    0    0        0    0      0    0     0  \n",
      "582  ...     8      1          2    0    0        0    0      0    0     0  \n",
      "583  ...     0      0          0    1    1       10    1      2    7     1  \n",
      "\n",
      "[584 rows x 4520 columns]\n"
     ]
    }
   ],
   "source": [
    "x_data = df[features]\n",
    "print(x_data)"
   ]
  },
  {
   "cell_type": "code",
   "execution_count": 665,
   "metadata": {},
   "outputs": [],
   "source": [
    "scaler = preprocessing.Normalizer().fit(x_data)\n",
    "x_data = scaler.transform(x_data)"
   ]
  },
  {
   "cell_type": "code",
   "execution_count": null,
   "metadata": {},
   "outputs": [],
   "source": []
  },
  {
   "cell_type": "code",
   "execution_count": 666,
   "metadata": {},
   "outputs": [],
   "source": [
    "y_data = df['class']"
   ]
  },
  {
   "cell_type": "code",
   "execution_count": 667,
   "metadata": {},
   "outputs": [
    {
     "data": {
      "text/plain": [
       "LogisticRegression(C=1.0, class_weight=None, dual=False, fit_intercept=True,\n",
       "          intercept_scaling=1, max_iter=100, multi_class='ovr', n_jobs=1,\n",
       "          penalty='l2', random_state=None, solver='liblinear', tol=0.0001,\n",
       "          verbose=0, warm_start=False)"
      ]
     },
     "execution_count": 667,
     "metadata": {},
     "output_type": "execute_result"
    }
   ],
   "source": [
    "from sklearn.linear_model import LogisticRegression\n",
    "model = LogisticRegression()\n",
    "model.fit(x_data, y_data)"
   ]
  },
  {
   "cell_type": "code",
   "execution_count": 668,
   "metadata": {},
   "outputs": [
    {
     "data": {
      "text/plain": [
       "0.98630136986301364"
      ]
     },
     "execution_count": 668,
     "metadata": {},
     "output_type": "execute_result"
    }
   ],
   "source": [
    "model.score(x_data,y_data)"
   ]
  },
  {
   "cell_type": "code",
   "execution_count": 595,
   "metadata": {},
   "outputs": [
    {
     "data": {
      "text/plain": [
       "['/Users/matus/Desktop/taejaiBot-demo/app/app/brain/current_model.pkl']"
      ]
     },
     "execution_count": 595,
     "metadata": {},
     "output_type": "execute_result"
    }
   ],
   "source": [
    "pickle.dump(scaler, open('/Users/matus/Desktop/taejaiBot-demo/app/app/brain/scaler.p' , 'wb'))\n",
    "joblib.dump(model,'/Users/matus/Desktop/taejaiBot-demo/app/app/brain/current_model.pkl')"
   ]
  },
  {
   "cell_type": "code",
   "execution_count": 618,
   "metadata": {
    "collapsed": true
   },
   "outputs": [],
   "source": [
    "def get_result(messages):\n",
    "    scaler = pickle.load(open('/Users/matus/Desktop/taejaiBot-demo/app/app/brain/scaler.p', 'rb'))\n",
    "    model = joblib.load('/Users/matus/Desktop/taejaiBot-demo/app/app/brain/current_model.pkl')\n",
    "\n",
    "    test_data = [get_feature([(messages, 1)])]\n",
    "    x_test = pd.DataFrame(data=test_data)[features]\n",
    "    x_test = scaler.transform(x_test)\n",
    "\n",
    "    predicted = model.predict_proba(x_test)\n",
    "    return predicted"
   ]
  },
  {
   "cell_type": "code",
   "execution_count": 674,
   "metadata": {},
   "outputs": [
    {
     "name": "stdout",
     "output_type": "stream",
     "text": [
      "0.00338333664659\n",
      "282\n",
      "0.00337983102512\n",
      "263\n"
     ]
    }
   ],
   "source": [
    "result = get_result('ลูก|เหรี่ยง')\n",
    "for res in result:\n",
    "    k = list(res)\n",
    "print(max(k))\n",
    "print(k.index(max(k)))\n",
    "if max(k) == k[282]:\n",
    "    k.pop(282)\n",
    "    print(max(k))\n",
    "    print(k.index(max(k)))\n"
   ]
  },
  {
   "cell_type": "code",
   "execution_count": null,
   "metadata": {
    "collapsed": true
   },
   "outputs": [],
   "source": []
  },
  {
   "cell_type": "code",
   "execution_count": null,
   "metadata": {},
   "outputs": [],
   "source": []
  },
  {
   "cell_type": "code",
   "execution_count": null,
   "metadata": {},
   "outputs": [],
   "source": []
  },
  {
   "cell_type": "code",
   "execution_count": null,
   "metadata": {
    "collapsed": true
   },
   "outputs": [],
   "source": []
  }
 ],
 "metadata": {
  "kernelspec": {
   "display_name": "Python 3",
   "language": "python",
   "name": "python3"
  },
  "language_info": {
   "codemirror_mode": {
    "name": "ipython",
    "version": 3
   },
   "file_extension": ".py",
   "mimetype": "text/x-python",
   "name": "python",
   "nbconvert_exporter": "python",
   "pygments_lexer": "ipython3",
   "version": "3.6.3"
  }
 },
 "nbformat": 4,
 "nbformat_minor": 2
}
